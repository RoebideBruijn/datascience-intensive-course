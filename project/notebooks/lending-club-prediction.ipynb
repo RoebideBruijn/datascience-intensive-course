{
 "cells": [
  {
   "cell_type": "code",
   "execution_count": 1,
   "metadata": {
    "collapsed": false
   },
   "outputs": [],
   "source": [
    "%matplotlib inline\n",
    "\n",
    "import pandas as pd\n",
    "import numpy as np\n",
    "from matplotlib import pyplot as plt\n",
    "import matplotlib.dates as mdates\n",
    "import seaborn as sns\n",
    "from sklearn.model_selection import train_test_split\n",
    "\n",
    "\n",
    "sns.set_style('white')"
   ]
  },
  {
   "cell_type": "markdown",
   "metadata": {},
   "source": [
    "# Prediction\n",
    "\n",
    "For investors it's interesting to know which characteristics of a loan are predictive of a loan ending in charged off. Lending club has its own algorithms beforehand that they use to predict which loans are riskier and give these a grade (A-F). This correlates very well with the probability of charged off as we saw in the exploration of the dataset. The interest rates should reflect the risk (higher interest with more risk) to make the riskier loans still attractive to invest in. Although grade and interest correlates well, it's not a perfect correlation. \n",
    "\n",
    "We will here use the loans that went to full term to build classifiers that can classify loans into charged off and fully paid. The accuracy measure used is 'f1_weighted' of sklearn. This score can be interpreted as a weighted average of the precision and recall. Interest rate and grade are already very good classifiers of charged off/fully paid. We will start with using grade as feature for prediction and see which features add any extra value. "
   ]
  },
  {
   "cell_type": "markdown",
   "metadata": {},
   "source": [
    "### Select loans and features\n",
    "We selected the loans here that went to full term and add the characteristic whether they were charged off or not. We excluded the one loan that was a joint application. The number of loans left are 255,719. "
   ]
  },
  {
   "cell_type": "code",
   "execution_count": 2,
   "metadata": {
    "collapsed": false
   },
   "outputs": [
    {
     "name": "stderr",
     "output_type": "stream",
     "text": [
      "/Users/ro.d.bruijn/anaconda/lib/python3.5/site-packages/IPython/core/interactiveshell.py:2902: DtypeWarning: Columns (19,55) have mixed types. Specify dtype option on import or set low_memory=False.\n",
      "  interactivity=interactivity, compiler=compiler, result=result)\n",
      "/Users/ro.d.bruijn/anaconda/lib/python3.5/site-packages/ipykernel/__main__.py:7: SettingWithCopyWarning: \n",
      "A value is trying to be set on a copy of a slice from a DataFrame.\n",
      "Try using .loc[row_indexer,col_indexer] = value instead\n",
      "\n",
      "See the caveats in the documentation: http://pandas.pydata.org/pandas-docs/stable/indexing.html#indexing-view-versus-copy\n"
     ]
    },
    {
     "data": {
      "text/plain": [
       "(255719, 75)"
      ]
     },
     "execution_count": 2,
     "metadata": {},
     "output_type": "execute_result"
    }
   ],
   "source": [
    "loans = pd.read_csv('../data/loan.csv')\n",
    "closed_status = ['Fully Paid', 'Charged Off',\n",
    "              'Does not meet the credit policy. Status:Fully Paid',\n",
    "              'Does not meet the credit policy. Status:Charged Off']\n",
    "closed_loans = loans[loans['loan_status'].isin(closed_status)]\n",
    "paid_status = ['Fully Paid', 'Does not meet the credit policy. Status:Fully Paid']\n",
    "closed_loans['charged_off'] = [False if loan in paid_status else True for loan in closed_loans['loan_status']]\n",
    "\n",
    "# exclude the one joint application\n",
    "closed_loans = closed_loans[closed_loans['application_type'] == 'INDIVIDUAL']\n",
    "closed_loans['grade'] = closed_loans['grade'].astype('category', ordered=True)\n",
    "closed_loans.shape"
   ]
  },
  {
   "cell_type": "markdown",
   "metadata": {},
   "source": [
    "### Select features\n",
    "The features that were missing in more than 5% of the loans were excluded leaving 49 features. \n",
    "Subsequently 21 features were handpicked to be features that could have predictive value (plus the features to predict 'charged_off' and 'loan_status'). For instance the 'id' of the loan does not have predicted value. Also features to do with how much was recieved in the end were excluded, since you don't know that at the beginning of a loan and therefore cannot choose a loan to invest in based on those features. "
   ]
  },
  {
   "cell_type": "code",
   "execution_count": 3,
   "metadata": {
    "collapsed": true
   },
   "outputs": [],
   "source": [
    "include =['funded_amnt_inv', 'term', 'int_rate', 'installment', 'grade', 'sub_grade', 'emp_length', 'home_ownership', \n",
    "          'annual_inc', 'purpose', 'zip_code', 'addr_state', 'delinq_2yrs', 'earliest_cr_line', 'inq_last_6mths', \n",
    "          'mths_since_last_delinq', 'mths_since_last_record', 'open_acc', 'pub_rec', 'revol_bal', 'revol_util', 'total_acc', \n",
    "          'initial_list_status', 'mths_since_last_major_derog', 'acc_now_delinq']\n",
    "questionable = ['verfication_status', 'issue_d', 'total_pymnt_inv', 'total_rec_prncp', 'total_rec_int', 'total_rec_late_fee',\n",
    "               'recoveries', 'collection_recovery_fee', 'last_pymnt_d', 'last_credit_pull_d', 'collections_12_mths_ex_med']\n",
    "exclude = ['id', 'member_id', 'loan_amnt', 'funded_amnt', 'emp_title', 'loan_status', 'pymnt_plan', 'url', 'desc', 'title', \n",
    "          'out_prncp', 'out_prncp_inv', 'total_pymnt', 'last_pymnt_amnt', 'next_pymnt_d', 'policy_code', 'application_type',\n",
    "          'annual_inc_joint', 'dti_joint', 'verification_status_joint', 'open_il_6m', 'open_il_12m', 'open_il_24m', \n",
    "           'mths_since_rcnt_il', 'total_bal_il']"
   ]
  },
  {
   "cell_type": "code",
   "execution_count": 4,
   "metadata": {
    "collapsed": false
   },
   "outputs": [
    {
     "data": {
      "text/plain": [
       "(255719, 23)"
      ]
     },
     "execution_count": 4,
     "metadata": {},
     "output_type": "execute_result"
    }
   ],
   "source": [
    "include =['funded_amnt_inv', 'term', 'int_rate', 'installment', 'grade', 'sub_grade', 'emp_length', \n",
    "          'home_ownership', 'purpose', 'zip_code', 'addr_state', 'earliest_cr_line', 'revol_bal', \n",
    "          'charged_off', 'loan_status', 'annual_inc', 'delinq_2yrs', 'inq_last_6mths', 'open_acc', \n",
    "          'pub_rec', 'revol_util', 'total_acc', 'acc_now_delinq' ]\n",
    "\n",
    "# exclude features with more than 5% missing values\n",
    "columns_not_missing = (closed_loans.isnull().apply(sum, 0) / len(closed_loans)) < 0.05\n",
    "closed_loans = closed_loans.loc[:,columns_not_missing[columns_not_missing].index]\n",
    "\n",
    "# include only the above handpicked features\n",
    "closed_loans = closed_loans[include]\n",
    "closed_loans.shape"
   ]
  },
  {
   "cell_type": "code",
   "execution_count": 5,
   "metadata": {
    "collapsed": false
   },
   "outputs": [
    {
     "data": {
      "text/html": [
       "<div>\n",
       "<table border=\"1\" class=\"dataframe\">\n",
       "  <thead>\n",
       "    <tr style=\"text-align: right;\">\n",
       "      <th></th>\n",
       "      <th>funded_amnt_inv</th>\n",
       "      <th>term</th>\n",
       "      <th>int_rate</th>\n",
       "      <th>installment</th>\n",
       "      <th>grade</th>\n",
       "      <th>sub_grade</th>\n",
       "      <th>emp_length</th>\n",
       "      <th>home_ownership</th>\n",
       "      <th>purpose</th>\n",
       "      <th>zip_code</th>\n",
       "      <th>...</th>\n",
       "      <th>charged_off</th>\n",
       "      <th>loan_status</th>\n",
       "      <th>annual_inc</th>\n",
       "      <th>delinq_2yrs</th>\n",
       "      <th>inq_last_6mths</th>\n",
       "      <th>open_acc</th>\n",
       "      <th>pub_rec</th>\n",
       "      <th>revol_util</th>\n",
       "      <th>total_acc</th>\n",
       "      <th>acc_now_delinq</th>\n",
       "    </tr>\n",
       "  </thead>\n",
       "  <tbody>\n",
       "    <tr>\n",
       "      <th>0</th>\n",
       "      <td>4975.0</td>\n",
       "      <td>36 months</td>\n",
       "      <td>10.65</td>\n",
       "      <td>162.87</td>\n",
       "      <td>B</td>\n",
       "      <td>B2</td>\n",
       "      <td>10+ years</td>\n",
       "      <td>RENT</td>\n",
       "      <td>credit_card</td>\n",
       "      <td>860xx</td>\n",
       "      <td>...</td>\n",
       "      <td>False</td>\n",
       "      <td>Fully Paid</td>\n",
       "      <td>24000.0</td>\n",
       "      <td>0.0</td>\n",
       "      <td>1.0</td>\n",
       "      <td>3.0</td>\n",
       "      <td>0.0</td>\n",
       "      <td>83.7</td>\n",
       "      <td>9.0</td>\n",
       "      <td>0.0</td>\n",
       "    </tr>\n",
       "    <tr>\n",
       "      <th>1</th>\n",
       "      <td>2500.0</td>\n",
       "      <td>60 months</td>\n",
       "      <td>15.27</td>\n",
       "      <td>59.83</td>\n",
       "      <td>C</td>\n",
       "      <td>C4</td>\n",
       "      <td>&lt; 1 year</td>\n",
       "      <td>RENT</td>\n",
       "      <td>car</td>\n",
       "      <td>309xx</td>\n",
       "      <td>...</td>\n",
       "      <td>True</td>\n",
       "      <td>Charged Off</td>\n",
       "      <td>30000.0</td>\n",
       "      <td>0.0</td>\n",
       "      <td>5.0</td>\n",
       "      <td>3.0</td>\n",
       "      <td>0.0</td>\n",
       "      <td>9.4</td>\n",
       "      <td>4.0</td>\n",
       "      <td>0.0</td>\n",
       "    </tr>\n",
       "    <tr>\n",
       "      <th>2</th>\n",
       "      <td>2400.0</td>\n",
       "      <td>36 months</td>\n",
       "      <td>15.96</td>\n",
       "      <td>84.33</td>\n",
       "      <td>C</td>\n",
       "      <td>C5</td>\n",
       "      <td>10+ years</td>\n",
       "      <td>RENT</td>\n",
       "      <td>small_business</td>\n",
       "      <td>606xx</td>\n",
       "      <td>...</td>\n",
       "      <td>False</td>\n",
       "      <td>Fully Paid</td>\n",
       "      <td>12252.0</td>\n",
       "      <td>0.0</td>\n",
       "      <td>2.0</td>\n",
       "      <td>2.0</td>\n",
       "      <td>0.0</td>\n",
       "      <td>98.5</td>\n",
       "      <td>10.0</td>\n",
       "      <td>0.0</td>\n",
       "    </tr>\n",
       "    <tr>\n",
       "      <th>3</th>\n",
       "      <td>10000.0</td>\n",
       "      <td>36 months</td>\n",
       "      <td>13.49</td>\n",
       "      <td>339.31</td>\n",
       "      <td>C</td>\n",
       "      <td>C1</td>\n",
       "      <td>10+ years</td>\n",
       "      <td>RENT</td>\n",
       "      <td>other</td>\n",
       "      <td>917xx</td>\n",
       "      <td>...</td>\n",
       "      <td>False</td>\n",
       "      <td>Fully Paid</td>\n",
       "      <td>49200.0</td>\n",
       "      <td>0.0</td>\n",
       "      <td>1.0</td>\n",
       "      <td>10.0</td>\n",
       "      <td>0.0</td>\n",
       "      <td>21.0</td>\n",
       "      <td>37.0</td>\n",
       "      <td>0.0</td>\n",
       "    </tr>\n",
       "    <tr>\n",
       "      <th>5</th>\n",
       "      <td>5000.0</td>\n",
       "      <td>36 months</td>\n",
       "      <td>7.90</td>\n",
       "      <td>156.46</td>\n",
       "      <td>A</td>\n",
       "      <td>A4</td>\n",
       "      <td>3 years</td>\n",
       "      <td>RENT</td>\n",
       "      <td>wedding</td>\n",
       "      <td>852xx</td>\n",
       "      <td>...</td>\n",
       "      <td>False</td>\n",
       "      <td>Fully Paid</td>\n",
       "      <td>36000.0</td>\n",
       "      <td>0.0</td>\n",
       "      <td>3.0</td>\n",
       "      <td>9.0</td>\n",
       "      <td>0.0</td>\n",
       "      <td>28.3</td>\n",
       "      <td>12.0</td>\n",
       "      <td>0.0</td>\n",
       "    </tr>\n",
       "  </tbody>\n",
       "</table>\n",
       "<p>5 rows × 23 columns</p>\n",
       "</div>"
      ],
      "text/plain": [
       "   funded_amnt_inv        term  int_rate  installment grade sub_grade  \\\n",
       "0           4975.0   36 months     10.65       162.87     B        B2   \n",
       "1           2500.0   60 months     15.27        59.83     C        C4   \n",
       "2           2400.0   36 months     15.96        84.33     C        C5   \n",
       "3          10000.0   36 months     13.49       339.31     C        C1   \n",
       "5           5000.0   36 months      7.90       156.46     A        A4   \n",
       "\n",
       "  emp_length home_ownership         purpose zip_code       ...        \\\n",
       "0  10+ years           RENT     credit_card    860xx       ...         \n",
       "1   < 1 year           RENT             car    309xx       ...         \n",
       "2  10+ years           RENT  small_business    606xx       ...         \n",
       "3  10+ years           RENT           other    917xx       ...         \n",
       "5    3 years           RENT         wedding    852xx       ...         \n",
       "\n",
       "  charged_off  loan_status  annual_inc delinq_2yrs inq_last_6mths  open_acc  \\\n",
       "0       False   Fully Paid     24000.0         0.0            1.0       3.0   \n",
       "1        True  Charged Off     30000.0         0.0            5.0       3.0   \n",
       "2       False   Fully Paid     12252.0         0.0            2.0       2.0   \n",
       "3       False   Fully Paid     49200.0         0.0            1.0      10.0   \n",
       "5       False   Fully Paid     36000.0         0.0            3.0       9.0   \n",
       "\n",
       "   pub_rec  revol_util  total_acc  acc_now_delinq  \n",
       "0      0.0        83.7        9.0             0.0  \n",
       "1      0.0         9.4        4.0             0.0  \n",
       "2      0.0        98.5       10.0             0.0  \n",
       "3      0.0        21.0       37.0             0.0  \n",
       "5      0.0        28.3       12.0             0.0  \n",
       "\n",
       "[5 rows x 23 columns]"
      ]
     },
     "execution_count": 5,
     "metadata": {},
     "output_type": "execute_result"
    }
   ],
   "source": [
    "closed_loans.head()"
   ]
  },
  {
   "cell_type": "markdown",
   "metadata": {},
   "source": [
    "### Split data\n",
    "We keep 50% of the data separate for now so we can later use this for hyperparameter tuning of the classifier and have some data separate to reliable test the performance of the classifier. The split is stratified by 'loan_status' in order to equally divide old loans over the split (old loans have a higher 'charged_off' probability). The classes to predict are in the variable 'charged_off'."
   ]
  },
  {
   "cell_type": "code",
   "execution_count": 6,
   "metadata": {
    "collapsed": false
   },
   "outputs": [],
   "source": [
    "X_train, X_val_test, y_train, y_val_test = train_test_split(closed_loans.iloc[:,0:22], \n",
    "                                                    closed_loans['charged_off'], test_size=0.5, \n",
    "                                                    random_state=123, stratify=closed_loans['loan_status'])\n",
    "X_train = X_train.drop(['charged_off', 'loan_status'], axis=1)\n",
    "X_val_test = X_val_test.drop(['charged_off', 'loan_status'], axis=1)"
   ]
  },
  {
   "cell_type": "markdown",
   "metadata": {
    "collapsed": false
   },
   "source": [
    "### Logistic regression\n",
    "\n",
    "We will first start with the logistic regression classifier. This is a simple classifier that uses a sigmoidal curve to predict from the features to which class the sample belongs. It has one parameter to tune namely the C-parameter. This is the inverse of the regularization strength, smaller values specify stronger regularization. In sklearn the features have to be numerical that we input in this algorithm, so we need to convert the categorical features to numeric. To do this ordered categorical features will have adjacent numbers and unordered features will get an order as best as possible during conversion to numeric, for instance geographical. Also there cannot be nan/inf/-inf values, hence these will be made 0's. With this algorithm scaling/normalizing the features is not necessary. \n",
    "\n",
    "Non-numeric features were converted as follows:\n",
    "- earliest_cr_line: the date was converted to a timestamp number\n",
    "- grade/sub_grade: order of the letters was kept\n",
    "- emp_length: nr of years\n",
    "- zipcode: numbers kept of zipcode (geographical order)\n",
    "- term: in months\n",
    "- home_ownership: from none to rent to mortgage to owned\n",
    "- purpose: from purposes that might make money to purposes that only cost money\n",
    "- addr_state: ordered geographically from west to east, top to bottom (https://theusa.nl/staten/)\n"
   ]
  },
  {
   "cell_type": "code",
   "execution_count": 7,
   "metadata": {
    "collapsed": false
   },
   "outputs": [],
   "source": [
    "# features that are not float or int, so not to be converted:\n",
    "\n",
    "# date:\n",
    "# earliest_cr_line\n",
    "\n",
    "# ordered:\n",
    "# grade, sub_grade, emp_length, zip_code, term\n",
    "\n",
    "# unordered:\n",
    "# home_ownership, purpose, addr_state (ordered geographically)\n",
    "\n",
    "# date\n",
    "X_train['earliest_cr_line'] = pd.to_datetime(X_train['earliest_cr_line']).dt.strftime(\"%s\")\n",
    "X_train['earliest_cr_line'] = [0 if date=='NaT' else int(date) for date in X_train['earliest_cr_line']]\n",
    "\n",
    "# term\n",
    "X_train['term'] = X_train['term'].apply(lambda x: int(x.split(' ')[1]))\n",
    "\n",
    "# grade\n",
    "loans['grade'] = loans['grade'].astype('category')\n",
    "grade_dict = {'A': 1, 'B': 2, 'C': 3, 'D': 4, 'E': 5, 'F': 6, 'G': 7}\n",
    "X_train['grade'] = X_train['grade'].apply(lambda x: grade_dict[x])\n",
    "\n",
    "# emp_length\n",
    "emp_length_dict = {'n/a':0,\n",
    "                   '< 1 year':0,\n",
    "                   '1 year':1,\n",
    "                   '2 years':2,\n",
    "                   '3 years':3,\n",
    "                   '4 years':4,\n",
    "                   '5 years':5,\n",
    "                   '6 years':6,\n",
    "                   '7 years':7,\n",
    "                   '8 years':8,\n",
    "                   '9 years':9,\n",
    "                   '10+ years':10}\n",
    "X_train['emp_length'] = X_train['emp_length'].apply(lambda x: emp_length_dict[x])\n",
    "\n",
    "# zipcode\n",
    "X_train['zip_code'] = X_train['zip_code'].apply(lambda x: int(x[0:3]))\n",
    "\n",
    "# subgrade\n",
    "X_train['sub_grade'] = X_train['grade'] + X_train['sub_grade'].apply(lambda x: float(list(x)[1])/10)\n",
    "\n",
    "# house\n",
    "house_dict = {'NONE': 0, 'OTHER': 0, 'RENT': 1, 'MORTGAGE': 2, 'OWN': 3}\n",
    "X_train['home_ownership'] = X_train['home_ownership'].apply(lambda x: house_dict[x])\n",
    "\n",
    "# purpose\n",
    "purpose_dict = {'other': 0, 'small_business': 1, 'renewable_energy': 2, 'home_improvement': 3,\n",
    "                'house': 4, 'educational': 5, 'medical': 6, 'moving': 7, 'car': 8, \n",
    "                'major_purchase': 9, 'wedding': 10, 'vacation': 11, 'credit_card': 12, \n",
    "                'debt_consolidation': 13}\n",
    "X_train['purpose'] = X_train['purpose'].apply(lambda x: purpose_dict[x])\n",
    "\n",
    "# states\n",
    "state_dict = {'AK': 0, 'WA': 1, 'ID': 2, 'MT': 3, 'ND': 4, 'MN': 5, \n",
    "              'OR': 6, 'WY': 7, 'SD': 8, 'WI': 9, 'MI': 10, 'NY': 11, \n",
    "              'VT': 12, 'NH': 13, 'MA': 14, 'CT': 15, 'RI': 16, 'ME': 17,\n",
    "              'CA': 18, 'NV': 19, 'UT': 20, 'CO': 21, 'NE': 22, 'IA': 23, \n",
    "              'KS': 24, 'MO': 25, 'IL': 26, 'IN': 27, 'OH': 28, 'PA': 29, \n",
    "              'NJ': 30, 'KY': 31, 'WV': 32, 'VA': 33, 'DC': 34, 'MD': 35, \n",
    "              'DE': 36, 'AZ': 37, 'NM': 38, 'OK': 39, 'AR': 40, 'TN': 41, \n",
    "              'NC': 42, 'TX': 43, 'LA': 44, 'MS': 45, 'AL': 46, 'GA': 47, \n",
    "              'SC': 48, 'FL': 49, 'HI': 50}\n",
    "X_train['addr_state'] = X_train['addr_state'].apply(lambda x: state_dict[x])\n",
    "\n",
    "# make NA's, inf and -inf 0\n",
    "X_train = X_train.fillna(0)\n",
    "X_train = X_train.replace([np.inf, -np.inf], 0)"
   ]
  },
  {
   "cell_type": "markdown",
   "metadata": {},
   "source": [
    "After the categorical features are conversed to numeric, we will first check what the accuracy is when only using the feature 'grade' (A-F) to predict 'charged off' (True/False). This is the classification lending club gave the loans. The closer to F the higher the chance the loan will end in 'charged off'. For the accuracy estimation we will use 'F1-weighted'. This stands for F1 = 2 * (precision * recall) / (precision + recall). In this way both precision and recall is important for the accuracy. Precision is the number of correct positive results divided by the number of all positive results, and recall is the number of correct positive results divided by the number of positive results that should have been returned. The F1 score can be interpreted as a weighted average of the precision and recall, where an F1 score reaches its best value at 1 and worst at 0. In this case using only 'grade'as feature, using the default parameter value for C (inverse of regularization strength) and using l1/lasso penalization we get an F1-accuracy of 0.744."
   ]
  },
  {
   "cell_type": "code",
   "execution_count": 13,
   "metadata": {
    "collapsed": false
   },
   "outputs": [
    {
     "name": "stdout",
     "output_type": "stream",
     "text": [
      "[ 0.74657805  0.74363519  0.74353838  0.74487007  0.74262046  0.74428405\n",
      "  0.74418621  0.74538976  0.74307224  0.7448571 ]\n",
      "0.744303150168\n"
     ]
    }
   ],
   "source": [
    "from sklearn.model_selection import cross_val_score\n",
    "from sklearn.linear_model import LogisticRegression\n",
    "clf = LogisticRegression(penalty='l1')\n",
    "scores = cross_val_score(clf, X_train.loc[:,['grade']], y_train, cv=10, scoring='f1_weighted')\n",
    "print(scores)\n",
    "print(np.mean(scores))"
   ]
  },
  {
   "cell_type": "markdown",
   "metadata": {},
   "source": [
    "We will now see whether using all 20 features that we selected will give an higher accuracy than using only 'grade'. This leads to only a very slight bump in the accuracy to 0.749. "
   ]
  },
  {
   "cell_type": "code",
   "execution_count": 11,
   "metadata": {
    "collapsed": false
   },
   "outputs": [
    {
     "name": "stdout",
     "output_type": "stream",
     "text": [
      "[ 0.75037474  0.74824152  0.74705646  0.75024383  0.75155753  0.74805346\n",
      "  0.75014022  0.74983419  0.74537033  0.74913791]\n",
      "0.749001018324\n"
     ]
    }
   ],
   "source": [
    "from sklearn.model_selection import cross_val_score\n",
    "from sklearn.linear_model import LogisticRegression\n",
    "clf = LogisticRegression(penalty='l1')\n",
    "scores = cross_val_score(clf, X_train, y_train, cv=10, scoring='f1_weighted')\n",
    "print(scores)\n",
    "print(np.mean(scores))"
   ]
  },
  {
   "cell_type": "markdown",
   "metadata": {},
   "source": [
    "Another way to possibly increase performance is to tune the C (penalization) parameter. We will do this with the GridSearchCV function of sklearn. The best performing C parameter, although really close with the default, is C=1. Giving an accuracy of 0.7497. (code is quoted out because it takes a long time to run)"
   ]
  },
  {
   "cell_type": "code",
   "execution_count": 14,
   "metadata": {
    "collapsed": false
   },
   "outputs": [],
   "source": [
    "from sklearn.model_selection import GridSearchCV\n",
    "dict_Cs = {'C': [0.001, 0.1, 1, 10, 100]}\n",
    "clf = GridSearchCV(LogisticRegression(penalty='l1'), dict_Cs, 'f1_weighted', cv=10)\n",
    "\n",
    "#clf.fit(X_train, y_train)\n",
    "#print(clf.best_params_)\n",
    "#print(clf.best_score_)"
   ]
  },
  {
   "cell_type": "markdown",
   "metadata": {},
   "source": [
    "Which features are most important for this slight bump in accuracy. We can see this by which coefficient is given to the feature by the algorithm. Here we show the 5 features with the highest coefficients, hence given the highest weights by the algorithm for the prediction. Both positive and negative coefficients are considered. We see that next to grade, home ownership is important, interest rates, number of inquiries for other loans in the last 6 months and number of times failing to pay in the last 2 years. Below these features are visualized in relation to the charged off status. "
   ]
  },
  {
   "cell_type": "code",
   "execution_count": 15,
   "metadata": {
    "collapsed": false
   },
   "outputs": [
    {
     "name": "stdout",
     "output_type": "stream",
     "text": [
      "Index(['home_ownership', 'int_rate', 'inq_last_6mths', 'grade', 'delinq_2yrs'], dtype='object')\n",
      "[-0.11586405  0.11313648  0.08153957 -0.04397259  0.03575021]\n"
     ]
    }
   ],
   "source": [
    "clf = LogisticRegression(penalty='l1', C=1)\n",
    "clf.fit(X_train, y_train)\n",
    "coefs = clf.coef_\n",
    "\n",
    "# find index of top 5 highest coefficients, aka most used features for prediction\n",
    "positions = abs(coefs[0]).argsort()[-5:][::-1]\n",
    "print(X_train.columns[positions])\n",
    "print(coefs[0][positions])"
   ]
  },
  {
   "cell_type": "code",
   "execution_count": 16,
   "metadata": {
    "collapsed": false
   },
   "outputs": [
    {
     "data": {
      "image/png": "[encoded data removed]",
      "text/plain": [
       "<matplotlib.figure.Figure at 0x11eaf2160>"
      ]
     },
     "metadata": {},
     "output_type": "display_data"
    },
    {
     "name": "stderr",
     "output_type": "stream",
     "text": [
      "/Users/ro.d.bruijn/anaconda/lib/python3.5/site-packages/statsmodels/nonparametric/kdetools.py:20: VisibleDeprecationWarning: using a non-integer number instead of an integer will result in an error in the future\n",
      "  y = X[:m/2+1] + np.r_[0,X[m/2+1:],0]*1j\n"
     ]
    },
    {
     "data": {
      "image/png": "[encoded data removed]",
      "text/plain": [
       "<matplotlib.figure.Figure at 0x11eaddcc0>"
      ]
     },
     "metadata": {},
     "output_type": "display_data"
    },
    {
     "data": {
      "image/png": "[encoded data removed]",
      "text/plain": [
       "<matplotlib.figure.Figure at 0x120d3dcf8>"
      ]
     },
     "metadata": {},
     "output_type": "display_data"
    },
    {
     "data": {
      "image/png": "[encoded data removed]",
      "text/plain": [
       "<matplotlib.figure.Figure at 0x11edd1fd0>"
      ]
     },
     "metadata": {},
     "output_type": "display_data"
    }
   ],
   "source": [
    "closed_loans['home_ownership'] = closed_loans['home_ownership'].astype('category')\n",
    "closed_loans['home_ownership'] = (closed_loans['home_ownership']\n",
    "                                 .cat.reorder_categories(['NONE', 'OTHER', 'ANY', 'RENT', 'MORTGAGE', 'OWN']))\n",
    "sns.countplot(data=closed_loans, x='home_ownership', hue='charged_off')\n",
    "plt.show()\n",
    "sns.distplot(closed_loans[closed_loans['charged_off']==True]['int_rate'])\n",
    "sns.distplot(closed_loans[closed_loans['charged_off']==False]['int_rate'])\n",
    "plt.show()\n",
    "sns.countplot(data=closed_loans, x='inq_last_6mths', hue='charged_off')\n",
    "plt.show()\n",
    "sns.countplot(data=closed_loans, x='delinq_2yrs', hue='charged_off')\n",
    "plt.show()"
   ]
  },
  {
   "cell_type": "markdown",
   "metadata": {},
   "source": [
    "### Random Forest\n",
    "\n",
    "To improve accuracy levels we could use a more complicated algorithm that scores well in a lot of cases, namely random forest. This algorithm makes various decision trees from subsets of the samples and uses at each split only a fraction of the features to prevent overfitting. The random forest algorithm is known to be not very sensitive to the values of its parameters: the number of features used at each split and the number of trees in the forest. The algorithm has feature selection already builtin (at each split). Comparing using only 'grade' to using all 20 features the accuracy goes up slightly from 0.739 to 0.753. Using all features gives also a slightly better result than logistic regression with all features and parameter tuning.  "
   ]
  },
  {
   "cell_type": "code",
   "execution_count": 17,
   "metadata": {
    "collapsed": false
   },
   "outputs": [
    {
     "name": "stderr",
     "output_type": "stream",
     "text": [
      "/Users/ro.d.bruijn/anaconda/lib/python3.5/site-packages/sklearn/metrics/classification.py:1113: UndefinedMetricWarning: F-score is ill-defined and being set to 0.0 in labels with no predicted samples.\n",
      "  'precision', 'predicted', average, warn_for)\n",
      "/Users/ro.d.bruijn/anaconda/lib/python3.5/site-packages/sklearn/metrics/classification.py:1113: UndefinedMetricWarning: F-score is ill-defined and being set to 0.0 in labels with no predicted samples.\n",
      "  'precision', 'predicted', average, warn_for)\n",
      "/Users/ro.d.bruijn/anaconda/lib/python3.5/site-packages/sklearn/metrics/classification.py:1113: UndefinedMetricWarning: F-score is ill-defined and being set to 0.0 in labels with no predicted samples.\n",
      "  'precision', 'predicted', average, warn_for)\n",
      "/Users/ro.d.bruijn/anaconda/lib/python3.5/site-packages/sklearn/metrics/classification.py:1113: UndefinedMetricWarning: F-score is ill-defined and being set to 0.0 in labels with no predicted samples.\n",
      "  'precision', 'predicted', average, warn_for)\n",
      "/Users/ro.d.bruijn/anaconda/lib/python3.5/site-packages/sklearn/metrics/classification.py:1113: UndefinedMetricWarning: F-score is ill-defined and being set to 0.0 in labels with no predicted samples.\n",
      "  'precision', 'predicted', average, warn_for)\n",
      "/Users/ro.d.bruijn/anaconda/lib/python3.5/site-packages/sklearn/metrics/classification.py:1113: UndefinedMetricWarning: F-score is ill-defined and being set to 0.0 in labels with no predicted samples.\n",
      "  'precision', 'predicted', average, warn_for)\n",
      "/Users/ro.d.bruijn/anaconda/lib/python3.5/site-packages/sklearn/metrics/classification.py:1113: UndefinedMetricWarning: F-score is ill-defined and being set to 0.0 in labels with no predicted samples.\n",
      "  'precision', 'predicted', average, warn_for)\n",
      "/Users/ro.d.bruijn/anaconda/lib/python3.5/site-packages/sklearn/metrics/classification.py:1113: UndefinedMetricWarning: F-score is ill-defined and being set to 0.0 in labels with no predicted samples.\n",
      "  'precision', 'predicted', average, warn_for)\n",
      "/Users/ro.d.bruijn/anaconda/lib/python3.5/site-packages/sklearn/metrics/classification.py:1113: UndefinedMetricWarning: F-score is ill-defined and being set to 0.0 in labels with no predicted samples.\n",
      "  'precision', 'predicted', average, warn_for)\n",
      "/Users/ro.d.bruijn/anaconda/lib/python3.5/site-packages/sklearn/metrics/classification.py:1113: UndefinedMetricWarning: F-score is ill-defined and being set to 0.0 in labels with no predicted samples.\n",
      "  'precision', 'predicted', average, warn_for)\n"
     ]
    },
    {
     "name": "stdout",
     "output_type": "stream",
     "text": [
      "[ 0.73897316  0.73897316  0.73897316  0.73897316  0.73906272  0.73904307\n",
      "  0.73904307  0.73904307  0.73904307  0.73904307]\n",
      "0.7390170732\n"
     ]
    }
   ],
   "source": [
    "from sklearn.model_selection import cross_val_score\n",
    "from sklearn.ensemble import RandomForestClassifier\n",
    "clf = RandomForestClassifier()\n",
    "scores = cross_val_score(clf, X_train.loc[:,['grade']], y_train, cv=10, scoring='f1_weighted')\n",
    "print(scores)\n",
    "print(np.mean(scores))\n",
    "\n",
    "# why do I get this F-score warning?"
   ]
  },
  {
   "cell_type": "code",
   "execution_count": 18,
   "metadata": {
    "collapsed": false
   },
   "outputs": [
    {
     "name": "stdout",
     "output_type": "stream",
     "text": [
      "[ 0.75375195  0.75571699  0.75613842  0.75208183  0.74999355  0.75437603\n",
      "  0.75508423  0.75361816  0.75527093  0.75505198]\n",
      "0.754108407175\n"
     ]
    }
   ],
   "source": [
    "from sklearn.model_selection import cross_val_score\n",
    "from sklearn.ensemble import RandomForestClassifier\n",
    "clf = RandomForestClassifier()\n",
    "scores = cross_val_score(clf, X_train, y_train, cv=10, scoring='f1_weighted')\n",
    "print(scores)\n",
    "print(np.mean(scores))"
   ]
  },
  {
   "cell_type": "code",
   "execution_count": null,
   "metadata": {
    "collapsed": false
   },
   "outputs": [],
   "source": [
    "# TO DO:\n",
    "\n",
    "# - find which variables are most important to random forest plus make figures of these\n",
    "# - why F-score warning\n",
    "# - run algorithms on test set to validate performance"
   ]
  },
  {
   "cell_type": "code",
   "execution_count": null,
   "metadata": {
    "collapsed": true
   },
   "outputs": [],
   "source": []
  },
  {
   "cell_type": "markdown",
   "metadata": {},
   "source": [
    "# Miscellaneous"
   ]
  },
  {
   "cell_type": "code",
   "execution_count": null,
   "metadata": {
    "collapsed": false
   },
   "outputs": [],
   "source": [
    "closed_loans.describe()"
   ]
  },
  {
   "cell_type": "code",
   "execution_count": null,
   "metadata": {
    "collapsed": false
   },
   "outputs": [],
   "source": [
    "sns.regplot(closed_loans.int_rate, closed_loans.installment)"
   ]
  },
  {
   "cell_type": "code",
   "execution_count": null,
   "metadata": {
    "collapsed": true
   },
   "outputs": [],
   "source": [
    "# logistic regression, GBM, Random Forest\n",
    "# train (60%), val (20%), test (20%) adviced by Andrew Ng\n",
    "\n",
    "# cross_val_score\n",
    "# f1_weighted\n",
    "# StratifiedKFold: stratified? for loan_status/paid? --> predefined splits?\n",
    "\n",
    "# http://scikit-learn.org/stable/modules/feature_selection.html\n",
    "# SelectKBest or SelectPercentile\n",
    "# The methods based on F-test estimate the degree of linear dependency between two random variables. \n",
    "# On the other hand, mutual information methods can capture any kind of statistical dependency, \n",
    "# but being nonparametric, they require more samples for accurate estimation.\n",
    "# So use mutual_info_classif\n",
    "\n",
    "# print(accuracy_score(clf.predict(Xtestlr),ytestlr))\n",
    "\n",
    "# preprocessing: http://scikit-learn.org/stable/modules/preprocessing.html"
   ]
  },
  {
   "cell_type": "code",
   "execution_count": null,
   "metadata": {
    "collapsed": true
   },
   "outputs": [],
   "source": [
    "# feature selection outside of an algorithm, see if adding one feature increases performance\n",
    "\n",
    "from sklearn.feature_selection import SelectKBest\n",
    "from sklearn.feature_selection import mutual_info_classif\n",
    "new_X = (SelectKBest(mutual_info_classif, k=5)\n",
    "        .fit_transform(X_train.drop(['grade'], axis=1), y_train))\n",
    "\n",
    "clf = LogisticRegression()\n",
    "for i in range(0,new_X.shape[1]):\n",
    "    train = X_train.loc[:,['grade']]\n",
    "    train['new_feature'] = new_X[:,i]\n",
    "    scores = cross_val_score(clf, train, y_train, cv=10, scoring='f1_weighted')\n",
    "    print(round(np.mean(scores),3))"
   ]
  }
 ],
 "metadata": {
  "kernelspec": {
   "display_name": "Python 3",
   "language": "python",
   "name": "python3"
  },
  "language_info": {
   "codemirror_mode": {
    "name": "ipython",
    "version": 3
   },
   "file_extension": ".py",
   "mimetype": "text/x-python",
   "name": "python",
   "nbconvert_exporter": "python",
   "pygments_lexer": "ipython3",
   "version": "3.5.2"
  }
 },
 "nbformat": 4,
 "nbformat_minor": 0
}
