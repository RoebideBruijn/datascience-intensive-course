{
 "cells": [
  {
   "cell_type": "markdown",
   "metadata": {},
   "source": [
    "# XML example and exercise\n",
    "****\n",
    "+ study examples of accessing nodes in XML tree structure  \n",
    "+ work on exercise to be completed and submitted\n",
    "****\n",
    "+ reference: https://docs.python.org/2.7/library/xml.etree.elementtree.html\n",
    "+ data source: http://www.dbis.informatik.uni-goettingen.de/Mondial\n",
    "****"
   ]
  },
  {
   "cell_type": "code",
   "execution_count": 24,
   "metadata": {
    "collapsed": true
   },
   "outputs": [],
   "source": [
    "from xml.etree import ElementTree as ET\n",
    "import pandas as pd"
   ]
  },
  {
   "cell_type": "markdown",
   "metadata": {},
   "source": [
    "## XML example\n",
    "\n",
    "+ for details about tree traversal and iterators, see https://docs.python.org/2.7/library/xml.etree.elementtree.html"
   ]
  },
  {
   "cell_type": "code",
   "execution_count": 2,
   "metadata": {
    "collapsed": true
   },
   "outputs": [],
   "source": [
    "document_tree = ET.parse( './data/mondial_database_less.xml' )"
   ]
  },
  {
   "cell_type": "code",
   "execution_count": 3,
   "metadata": {
    "collapsed": false
   },
   "outputs": [
    {
     "name": "stdout",
     "output_type": "stream",
     "text": [
      "Albania\n",
      "Greece\n",
      "Macedonia\n",
      "Serbia\n",
      "Montenegro\n",
      "Kosovo\n",
      "Andorra\n"
     ]
    }
   ],
   "source": [
    "# print names of all countries\n",
    "for child in document_tree.getroot():\n",
    "    print(child.find('name').text)"
   ]
  },
  {
   "cell_type": "code",
   "execution_count": 4,
   "metadata": {
    "collapsed": false
   },
   "outputs": [
    {
     "name": "stdout",
     "output_type": "stream",
     "text": [
      "* Albania:\n",
      "Tirana, Shkodër, Durrës, Vlorë, Elbasan, Korçë\n",
      "* Greece:\n",
      "Komotini, Kavala, Athina, Peiraias, Peristeri, Acharnes, Patra, Kozani, Kerkyra, Ioannina, Thessaloniki, Iraklio, Chania, Ermoupoli, Rhodes, Tripoli, Lamia, Chalkida, Larissa, Volos, Mytilini, Karyes\n",
      "* Macedonia:\n",
      "Skopje, Kumanovo\n",
      "* Serbia:\n",
      "Beograd, Novi Sad, Niš\n",
      "* Montenegro:\n",
      "Podgorica\n",
      "* Kosovo:\n",
      "Prishtine\n",
      "* Andorra:\n",
      "Andorra la Vella\n"
     ]
    }
   ],
   "source": [
    "# print names of all countries and their cities\n",
    "for element in document_tree.iterfind('country'):\n",
    "    print('* ' + element.find('name').text + ':'),\n",
    "    capitals_string = ''\n",
    "    for subelement in element.getiterator('city'):\n",
    "        capitals_string += subelement.find('name').text + ', '\n",
    "    print(capitals_string[:-2])"
   ]
  },
  {
   "cell_type": "markdown",
   "metadata": {},
   "source": [
    "****\n",
    "## XML exercise\n",
    "\n",
    "Using data in 'data/mondial_database.xml', the examples above, and refering to https://docs.python.org/2.7/library/xml.etree.elementtree.html, find\n",
    "\n",
    "1. 10 countries with the lowest infant mortality rates\n",
    "2. 10 cities with the largest population\n",
    "3. 10 ethnic groups with the largest overall populations (sum of best/latest estimates over all countries)\n",
    "4. name and country of a) longest river, b) largest lake and c) airport at highest elevation"
   ]
  },
  {
   "cell_type": "code",
   "execution_count": 21,
   "metadata": {
    "collapsed": false
   },
   "outputs": [],
   "source": [
    "document = ET.parse( './data/mondial_database.xml' )"
   ]
  },
  {
   "cell_type": "markdown",
   "metadata": {},
   "source": [
    "### 1. 10 countries with the lowest infant mortality rates"
   ]
  },
  {
   "cell_type": "code",
   "execution_count": 57,
   "metadata": {
    "collapsed": false
   },
   "outputs": [
    {
     "data": {
      "text/html": [
       "<div>\n",
       "<table border=\"1\" class=\"dataframe\">\n",
       "  <thead>\n",
       "    <tr style=\"text-align: right;\">\n",
       "      <th></th>\n",
       "      <th>infant_mortality</th>\n",
       "      <th>name</th>\n",
       "    </tr>\n",
       "  </thead>\n",
       "  <tbody>\n",
       "    <tr>\n",
       "      <th>36</th>\n",
       "      <td>1.81</td>\n",
       "      <td>Monaco</td>\n",
       "    </tr>\n",
       "    <tr>\n",
       "      <th>90</th>\n",
       "      <td>2.13</td>\n",
       "      <td>Japan</td>\n",
       "    </tr>\n",
       "    <tr>\n",
       "      <th>109</th>\n",
       "      <td>2.48</td>\n",
       "      <td>Bermuda</td>\n",
       "    </tr>\n",
       "    <tr>\n",
       "      <th>34</th>\n",
       "      <td>2.48</td>\n",
       "      <td>Norway</td>\n",
       "    </tr>\n",
       "    <tr>\n",
       "      <th>98</th>\n",
       "      <td>2.53</td>\n",
       "      <td>Singapore</td>\n",
       "    </tr>\n",
       "    <tr>\n",
       "      <th>35</th>\n",
       "      <td>2.60</td>\n",
       "      <td>Sweden</td>\n",
       "    </tr>\n",
       "    <tr>\n",
       "      <th>8</th>\n",
       "      <td>2.63</td>\n",
       "      <td>Czech Republic</td>\n",
       "    </tr>\n",
       "    <tr>\n",
       "      <th>72</th>\n",
       "      <td>2.73</td>\n",
       "      <td>Hong Kong</td>\n",
       "    </tr>\n",
       "    <tr>\n",
       "      <th>73</th>\n",
       "      <td>3.13</td>\n",
       "      <td>Macao</td>\n",
       "    </tr>\n",
       "    <tr>\n",
       "      <th>39</th>\n",
       "      <td>3.15</td>\n",
       "      <td>Iceland</td>\n",
       "    </tr>\n",
       "  </tbody>\n",
       "</table>\n",
       "</div>"
      ],
      "text/plain": [
       "     infant_mortality            name\n",
       "36               1.81          Monaco\n",
       "90               2.13           Japan\n",
       "109              2.48         Bermuda\n",
       "34               2.48          Norway\n",
       "98               2.53       Singapore\n",
       "35               2.60          Sweden\n",
       "8                2.63  Czech Republic\n",
       "72               2.73       Hong Kong\n",
       "73               3.13           Macao\n",
       "39               3.15         Iceland"
      ]
     },
     "execution_count": 57,
     "metadata": {},
     "output_type": "execute_result"
    }
   ],
   "source": [
    "names = []\n",
    "infant_mortalities = []\n",
    "for element in document.iterfind('country[infant_mortality]'):\n",
    "    names.append(element.find('name').text)\n",
    "    infant_mortalities.append(float(element.find('infant_mortality').text))\n",
    "    \n",
    "results = pd.DataFrame({'name': names, 'infant_mortality':infant_mortalities})\n",
    "results.sort_values('infant_mortality').head(10)"
   ]
  },
  {
   "cell_type": "markdown",
   "metadata": {},
   "source": [
    "### 2. 10 cities with the largest population"
   ]
  },
  {
   "cell_type": "code",
   "execution_count": 73,
   "metadata": {
    "collapsed": false
   },
   "outputs": [
    {
     "data": {
      "text/html": [
       "<div>\n",
       "<table border=\"1\" class=\"dataframe\">\n",
       "  <thead>\n",
       "    <tr style=\"text-align: right;\">\n",
       "      <th></th>\n",
       "      <th>city</th>\n",
       "      <th>population</th>\n",
       "    </tr>\n",
       "  </thead>\n",
       "  <tbody>\n",
       "    <tr>\n",
       "      <th>165</th>\n",
       "      <td>Seoul</td>\n",
       "      <td>9708483</td>\n",
       "    </tr>\n",
       "    <tr>\n",
       "      <th>154</th>\n",
       "      <td>Al Qahirah</td>\n",
       "      <td>8471859</td>\n",
       "    </tr>\n",
       "    <tr>\n",
       "      <th>75</th>\n",
       "      <td>Bangkok</td>\n",
       "      <td>7506700</td>\n",
       "    </tr>\n",
       "    <tr>\n",
       "      <th>123</th>\n",
       "      <td>Hong Kong</td>\n",
       "      <td>7055071</td>\n",
       "    </tr>\n",
       "    <tr>\n",
       "      <th>87</th>\n",
       "      <td>Ho Chi Minh</td>\n",
       "      <td>5968384</td>\n",
       "    </tr>\n",
       "    <tr>\n",
       "      <th>201</th>\n",
       "      <td>Singapore</td>\n",
       "      <td>5076700</td>\n",
       "    </tr>\n",
       "    <tr>\n",
       "      <th>153</th>\n",
       "      <td>Al Iskandariyah</td>\n",
       "      <td>4123869</td>\n",
       "    </tr>\n",
       "    <tr>\n",
       "      <th>205</th>\n",
       "      <td>New Taipei</td>\n",
       "      <td>3939305</td>\n",
       "    </tr>\n",
       "    <tr>\n",
       "      <th>166</th>\n",
       "      <td>Busan</td>\n",
       "      <td>3403135</td>\n",
       "    </tr>\n",
       "    <tr>\n",
       "      <th>102</th>\n",
       "      <td>Pyongyang</td>\n",
       "      <td>3255288</td>\n",
       "    </tr>\n",
       "  </tbody>\n",
       "</table>\n",
       "</div>"
      ],
      "text/plain": [
       "                city  population\n",
       "165            Seoul     9708483\n",
       "154       Al Qahirah     8471859\n",
       "75           Bangkok     7506700\n",
       "123        Hong Kong     7055071\n",
       "87       Ho Chi Minh     5968384\n",
       "201        Singapore     5076700\n",
       "153  Al Iskandariyah     4123869\n",
       "205       New Taipei     3939305\n",
       "166            Busan     3403135\n",
       "102        Pyongyang     3255288"
      ]
     },
     "execution_count": 73,
     "metadata": {},
     "output_type": "execute_result"
    }
   ],
   "source": [
    "cities = []\n",
    "populations = []\n",
    "for element in document.iterfind('country[city]'):\n",
    "    for sub in element.iterfind('city[population]'):\n",
    "        cities.append(sub.find('name').text)\n",
    "        pops = [int(p.text) for p in sub.findall('population')]\n",
    "        populations.append(pops[-1])\n",
    "\n",
    "results = pd.DataFrame({'city': cities, 'population': populations}) \n",
    "results.sort_values('population', ascending=False).head(10)"
   ]
  },
  {
   "cell_type": "markdown",
   "metadata": {},
   "source": [
    "### 3. 10 ethnic groups with the largest overall populations (sum of best/latest estimates over all countries)"
   ]
  },
  {
   "cell_type": "code",
   "execution_count": 154,
   "metadata": {
    "collapsed": false
   },
   "outputs": [
    {
     "data": {
      "text/plain": [
       "Han Chinese    124505880000\n",
       "Indo-Aryan      87181558344\n",
       "European        49487221972\n",
       "African         31832512037\n",
       "Dravidian       30271374425\n",
       "Mestizo         15773435494\n",
       "Bengali         14677691672\n",
       "Russian         13185699608\n",
       "Japanese        12653421200\n",
       "Malay           12199355037\n",
       "dtype: int64"
      ]
     },
     "execution_count": 154,
     "metadata": {},
     "output_type": "execute_result"
    }
   ],
   "source": [
    "ethnic_groups = [e.text for e in document.findall('.//ethnicgroup')]\n",
    "ethnic_dict = dict.fromkeys(ethnic_groups, 0)\n",
    "for element in document.iterfind('country[ethnicgroup]'):\n",
    "    population = [int(p.text) for p in element.findall('population')][-1]\n",
    "    groups = [e.text for e in element.findall('ethnicgroup')]\n",
    "    percentages = [float(perc.get('percentage')) for perc in element.findall('ethnicgroup')]\n",
    "    for i, group in enumerate(groups):\n",
    "        ethnic_dict[group] += percentages[i] * population\n",
    "        \n",
    "round(pd.Series(ethnic_dict)).astype(int).sort_values(ascending=False).head(10)"
   ]
  },
  {
   "cell_type": "markdown",
   "metadata": {},
   "source": [
    "### 4. name and country of a) longest river, b) largest lake and c) airport at highest elevation"
   ]
  },
  {
   "cell_type": "code",
   "execution_count": null,
   "metadata": {
    "collapsed": true
   },
   "outputs": [],
   "source": [
    "# convert country code\n",
    "country_dict = {}\n",
    "for element in document.iterfind('country'):\n",
    "    country_dict[element.get('car_code')] = element.find('name').text"
   ]
  },
  {
   "cell_type": "code",
   "execution_count": 136,
   "metadata": {
    "collapsed": false
   },
   "outputs": [
    {
     "name": "stdout",
     "output_type": "stream",
     "text": [
      "longest river \n",
      "    name: Amazonas\n",
      "    countries: Colombia, Brazil, Peru\n"
     ]
    }
   ],
   "source": [
    "# find longest river\n",
    "river_name = ''\n",
    "river_code = ''\n",
    "river_length = 0.0\n",
    "for element in document.iterfind('river[length]'):\n",
    "    if float(element.find('length').text) > river_length:\n",
    "        river_length = float(element.find('length').text) \n",
    "        river_name = element.find('name').text \n",
    "        river_code = element.get('country')\n",
    "        \n",
    "countries = ', '.join([country_dict[c] for c in river_code.split(' ')])        \n",
    "print('longest river \\n    name: {}\\n    countries: {}'.format(river_name, countries)) "
   ]
  },
  {
   "cell_type": "code",
   "execution_count": 137,
   "metadata": {
    "collapsed": false
   },
   "outputs": [
    {
     "name": "stdout",
     "output_type": "stream",
     "text": [
      "largest lake\n",
      "    name: Caspian Sea\n",
      "    countries: Russia, Azerbaijan, Kazakhstan, Iran, Turkmenistan\n"
     ]
    }
   ],
   "source": [
    "# find largest lake\n",
    "lake_name = ''\n",
    "lake_code = ''\n",
    "lake_area = 0.0\n",
    "for element in document.iterfind('lake[area]'):\n",
    "    if float(element.find('area').text) > lake_area:\n",
    "        lake_area = float(element.find('area').text) \n",
    "        lake_name = element.find('name').text \n",
    "        lake_code = element.get('country')\n",
    "        \n",
    "countries = ', '.join([country_dict[c] for c in lake_code.split(' ')])        \n",
    "print('largest lake\\n    name: {}\\n    countries: {}'.format(lake_name, countries)) "
   ]
  },
  {
   "cell_type": "code",
   "execution_count": 152,
   "metadata": {
    "collapsed": false
   },
   "outputs": [
    {
     "name": "stdout",
     "output_type": "stream",
     "text": [
      "highest airport elevation\n",
      "    name: El Alto Intl\n",
      "    countries: Bolivia\n"
     ]
    }
   ],
   "source": [
    "# find highest airport elevation\n",
    "airport_name = ''\n",
    "airport_code = ''\n",
    "airport_elevation = 0.0\n",
    "for element in document.iterfind('airport[elevation]'):\n",
    "    if element.find('elevation').text is None:\n",
    "        continue\n",
    "    if float(element.find('elevation').text) > airport_elevation:\n",
    "        airport_elevation = float(element.find('elevation').text) \n",
    "        airport_name = element.find('name').text \n",
    "        airport_code = element.get('country')\n",
    "        \n",
    "countries = ', '.join([country_dict[c] for c in airport_code.split(' ')])        \n",
    "print('highest airport elevation\\n    name: {}\\n    countries: {}'.format(airport_name, countries))"
   ]
  }
 ],
 "metadata": {
  "kernelspec": {
   "display_name": "Python 3",
   "language": "python",
   "name": "python3"
  },
  "language_info": {
   "codemirror_mode": {
    "name": "ipython",
    "version": 3
   },
   "file_extension": ".py",
   "mimetype": "text/x-python",
   "name": "python",
   "nbconvert_exporter": "python",
   "pygments_lexer": "ipython3",
   "version": "3.5.2"
  }
 },
 "nbformat": 4,
 "nbformat_minor": 0
}
